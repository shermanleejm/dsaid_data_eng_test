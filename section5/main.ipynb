{
 "cells": [
  {
   "cell_type": "code",
   "execution_count": 144,
   "source": [
    "import xgboost as xgb\n",
    "from xgboost import XGBClassifier\n",
    "import pandas as pd\n",
    "from sklearn.model_selection import train_test_split\n",
    "from sklearn.metrics import accuracy_score, mean_squared_error, r2_score\n",
    "import numpy as np\n",
    "import seaborn as sns\n",
    "from sklearn.ensemble import RandomForestClassifier\n",
    "from sklearn.tree import DecisionTreeClassifier\n",
    "import category_encoders as ce\n",
    "import warnings\n",
    "\n",
    "warnings.filterwarnings(\"ignore\")\n",
    "# load data\n",
    "categories = [\"buying\", \"main\", \"doors\", \"lug_boot\", \"safety\", \"class\"]\n",
    "x_cat = categories[1:]\n",
    "df = pd.read_csv(\"car.data\", names=categories)\n",
    "# Maintenance = High\n",
    "# Number of doors = 4\n",
    "# Lug Boot Size = Big\n",
    "# Safety = High\n",
    "# Class Value = Good\n",
    "section5 = pd.DataFrame.from_dict(\n",
    "    {\"main\": [2], \"doors\": [3], \"lug_boot\": [3], \"safety\": [3], \"class\": [3]}\n",
    ")"
   ],
   "outputs": [],
   "metadata": {}
  },
  {
   "cell_type": "code",
   "execution_count": 182,
   "source": [
    "# encode data \n",
    "df_temp = df.copy()\n",
    "df_temp = df_temp[categories]\n",
    "for cat in categories:\n",
    "    df_temp[cat] = df_temp[cat].astype(\"category\")\n",
    "df_temp_cols = df_temp.columns\n",
    "df_temp[df_temp_cols] = df_temp[df_temp_cols].apply(lambda x: x.cat.codes)\n",
    "\n",
    "# create result set and feature set\n",
    "X, y = df_temp.iloc[:, 1:], df_temp.iloc[:, 0]\n",
    "\n",
    "# create Dmatrix for optimised performance\n",
    "df_matrix = xgb.DMatrix(data=X, label=y, enable_categorical=True)\n",
    "\n",
    "# train test split\n",
    "X_train, X_test, y_train, y_test = train_test_split(\n",
    "    X, y, test_size=0.2, random_state=123\n",
    ")\n",
    "\n",
    "# create classifier object\n",
    "xg_classifier = xgb.XGBClassifier(use_label_encoder=False)\n",
    "\n",
    "# fit the model and check accuracy\n",
    "xg_classifier.fit(X_train, y_train)\n",
    "y_pred = xg_classifier.predict(X_test)\n",
    "\n",
    "# accuracy score\n",
    "print(accuracy_score(y_test, y_pred), xg_classifier.predict(section5[x_cat]))\n",
    "\n"
   ],
   "outputs": [
    {
     "output_type": "stream",
     "name": "stdout",
     "text": [
      "[00:49:09] WARNING: /Users/travis/build/dmlc/xgboost/src/learner.cc:1095: Starting in XGBoost 1.3.0, the default evaluation metric used with the objective 'multi:softprob' was changed from 'merror' to 'mlogloss'. Explicitly set eval_metric if you'd like to restore the old behavior.\n",
      "0.09248554913294797 [1]\n"
     ]
    }
   ],
   "metadata": {}
  },
  {
   "cell_type": "code",
   "execution_count": 181,
   "source": [
    "# create result set and feature set\n",
    "X = df[x_cat]\n",
    "y = df[\"buying\"]\n",
    "\n",
    "# train test split\n",
    "X_train, X_test, y_train, y_test = train_test_split(\n",
    "    X, y, test_size=0.2, random_state=69\n",
    ")\n",
    "# encode data\n",
    "encoder = ce.OrdinalEncoder(cols=x_cat)\n",
    "X_train = encoder.fit_transform(X_train)\n",
    "X_test = encoder.fit_transform(X_test)\n",
    "\n",
    "# max depth of 3 seems to be the best\n",
    "for i in range(1, 10):\n",
    "    forest = RandomForestClassifier(max_depth=i, n_estimators=1000, random_state=69)\n",
    "\n",
    "    forest.fit(X_train, y_train)\n",
    "\n",
    "    y_pred = forest.predict(X_test)\n",
    "\n",
    "    print(accuracy_score(y_test, y_pred), forest.predict(section5[x_cat]))"
   ],
   "outputs": [
    {
     "output_type": "stream",
     "name": "stdout",
     "text": [
      "0.26011560693641617 ['low']\n",
      "0.24855491329479767 ['low']\n",
      "0.2947976878612717 ['low']\n",
      "0.25722543352601157 ['low']\n",
      "0.20809248554913296 ['low']\n",
      "0.13872832369942195 ['low']\n",
      "0.13005780346820808 ['low']\n",
      "0.11849710982658959 ['low']\n",
      "0.11271676300578035 ['low']\n"
     ]
    }
   ],
   "metadata": {}
  },
  {
   "cell_type": "code",
   "execution_count": 148,
   "source": [
    "# trying to remove one feature\n",
    "y = df[\"buying\"]\n",
    "best_categories = x_cat\n",
    "best_accuracy = 0\n",
    "best_tree = None\n",
    "for i in range(len(x_cat)):\n",
    "    tempCat = x_cat[:i] + x_cat[i + 1 :]\n",
    "    X = df[tempCat]\n",
    "\n",
    "    # train test split\n",
    "    X_train, X_test, y_train, y_test = train_test_split(\n",
    "        X, y, test_size=0.2, random_state=69\n",
    "    )\n",
    "\n",
    "    # encode data\n",
    "    encoder = ce.OrdinalEncoder(cols=tempCat)\n",
    "    X_train = encoder.fit_transform(X_train)\n",
    "    X_test = encoder.fit_transform(X_test)\n",
    "\n",
    "    tree_gini = DecisionTreeClassifier(criterion=\"gini\", max_depth=3, random_state=69)\n",
    "\n",
    "    tree_gini.fit(X_train, y_train)\n",
    "\n",
    "    y_pred = tree_gini.predict(X_test)\n",
    "    tmp_acc = accuracy_score(y_test, y_pred)\n",
    "\n",
    "    if tmp_acc > best_accuracy:\n",
    "        best_accuracy = tmp_acc\n",
    "        best_categories = tempCat\n",
    "        best_tree = tree_gini"
   ],
   "outputs": [],
   "metadata": {}
  },
  {
   "cell_type": "code",
   "execution_count": 166,
   "source": [
    "sec5_pred = best_tree.predict(section5[best_categories])\n",
    "sec5_pred[0]"
   ],
   "outputs": [
    {
     "output_type": "execute_result",
     "data": {
      "text/plain": [
       "'low'"
      ]
     },
     "metadata": {},
     "execution_count": 166
    }
   ],
   "metadata": {}
  },
  {
   "cell_type": "code",
   "execution_count": 179,
   "source": [
    "from sklearn.model_selection import KFold\n",
    "\n",
    "kf_df = df[categories]\n",
    "\n",
    "rn = range(1, 1728)\n",
    "kf = KFold(n_splits=100, shuffle=False)\n",
    "\n",
    "tree_gini = DecisionTreeClassifier(criterion=\"gini\", max_depth=3, random_state=69)\n",
    "\n",
    "best_trees = {}\n",
    "\n",
    "for train_index, test_index in kf.split(rn):\n",
    "    X_train = kf_df.iloc[train_index].loc[:, x_cat]\n",
    "    X_test = kf_df.iloc[test_index].loc[:, x_cat]\n",
    "    y_train = kf_df.iloc[train_index].loc[:, 'buying']\n",
    "    y_test = kf_df.iloc[test_index].loc[:, 'buying']\n",
    "\n",
    "    encoder = ce.OrdinalEncoder(cols=x_cat)\n",
    "    X_train = encoder.fit_transform(X_train)\n",
    "    X_test = encoder.fit_transform(X_test)\n",
    "\n",
    "    tree_gini.fit(X_train, y_train)\n",
    "\n",
    "    best_trees[accuracy_score(y_test, tree_gini.predict(X_test))] = tree_gini"
   ],
   "outputs": [],
   "metadata": {}
  },
  {
   "cell_type": "code",
   "execution_count": 180,
   "source": [
    "best_accuracy = 0\n",
    "best_tree = None\n",
    "for k, v in best_trees.items():\n",
    "    if k > best_accuracy:\n",
    "        best_accuracy = k\n",
    "        best_tree = v\n",
    "if best_tree:\n",
    "    print(best_tree.predict(section5[x_cat]), best_accuracy)"
   ],
   "outputs": [
    {
     "output_type": "stream",
     "name": "stdout",
     "text": [
      "['low'] 0.7058823529411765\n"
     ]
    }
   ],
   "metadata": {}
  },
  {
   "cell_type": "code",
   "execution_count": 183,
   "source": [
    "# train with all data\n",
    "X = df[x_cat]\n",
    "encoder = ce.OrdinalEncoder(cols=x_cat)\n",
    "X = encoder.fit_transform(X)\n",
    "y = df['buying']\n",
    "tree_gini = DecisionTreeClassifier(criterion=\"gini\", max_depth=3, random_state=69)\n",
    "tree_gini.fit(X, y)\n",
    "tree_gini.predict(section5[x_cat])"
   ],
   "outputs": [
    {
     "output_type": "execute_result",
     "data": {
      "text/plain": [
       "array(['low'], dtype=object)"
      ]
     },
     "metadata": {},
     "execution_count": 183
    }
   ],
   "metadata": {}
  },
  {
   "cell_type": "code",
   "execution_count": null,
   "source": [],
   "outputs": [],
   "metadata": {}
  }
 ],
 "metadata": {
  "orig_nbformat": 4,
  "language_info": {
   "name": "python",
   "version": "3.9.4",
   "mimetype": "text/x-python",
   "codemirror_mode": {
    "name": "ipython",
    "version": 3
   },
   "pygments_lexer": "ipython3",
   "nbconvert_exporter": "python",
   "file_extension": ".py"
  },
  "kernelspec": {
   "name": "python3",
   "display_name": "Python 3.9.4 64-bit"
  },
  "interpreter": {
   "hash": "aee8b7b246df8f9039afb4144a1f6fd8d2ca17a180786b69acc140d282b71a49"
  }
 },
 "nbformat": 4,
 "nbformat_minor": 2
}